{
 "cells": [
  {
   "cell_type": "markdown",
   "metadata": {},
   "source": [
    "### 1. In what modes should the PdfFileReader() and PdfFileWriter() File objects will be opened?"
   ]
  },
  {
   "cell_type": "code",
   "execution_count": null,
   "metadata": {},
   "outputs": [],
   "source": [
    "Ans:\n",
    "    'rb' i.e read binary"
   ]
  },
  {
   "cell_type": "markdown",
   "metadata": {},
   "source": [
    "### 2. From a PdfFileReader object, how do you get a Page object for page 5?"
   ]
  },
  {
   "cell_type": "code",
   "execution_count": null,
   "metadata": {},
   "outputs": [],
   "source": [
    "Ans:\n",
    "we can use following function with pdfFileReader object:\n",
    "   obj2 = pdfreader.getPage(5)\n",
    "   obj2.extractText()"
   ]
  },
  {
   "cell_type": "code",
   "execution_count": 20,
   "metadata": {},
   "outputs": [
    {
     "name": "stdout",
     "output_type": "stream",
     "text": [
      "number of pages in the pdf is:  548\n",
      "page 5 of the pdf : \n",
      " Passing Values to and from the Shell                                                                         18\n",
      "Shell-Related Magic Commands                                                                                   19\n",
      "Errors and Debugging                                                                                                     20\n",
      "Controlling Exceptions: %xmode                                                                              20\n",
      "Debugging: When Reading Tracebacks Is Not Enough                                          22\n",
      "Profiling and Timing Code                                                                                             25\n",
      "Timing Code Snippets: %timeit and %time                                                             25\n",
      "Profiling Full Scripts: %prun                                                                                      27\n",
      "Line-by-Line Profiling with %lprun                                                                          28\n",
      "Profiling Memory Use: %memit and %mprun                                                        29\n",
      "More IPython Resources                                                                                                 30\n",
      "Web Resources                                                                                                              30\n",
      "Books                                                                                                                              31\n",
      "2.Introduction to NumPy. . . . . . . . . . . . . . . . . . . . . . . . . . . . . . . . . . . . . . . . . . . . . . . . . . . . . .  33\n",
      "Understanding Data Types in Python                                                                           34\n",
      "A Python Integer Is More Than Just an Integer                                                       35\n",
      "A Python List Is More Than Just a List                                                                     37\n",
      "Fixed-Type Arrays in Python                                                                                     38\n",
      "Creating Arrays from Python Lists                                                                            39\n",
      "Creating Arrays from Scratch                                                                                     39\n",
      "NumPy Standard Data Types                                                                                     41\n",
      "The Basics of NumPy Arrays                                                                                          42\n",
      "NumPy Array Attributes                                                                                             42\n",
      "Array Indexing: Accessing Single Elements                                                             43\n",
      "Array Slicing: Accessing Subarrays                                                                            44\n",
      "Reshaping of Arrays                                                                                                     47\n",
      "Array Concatenation and Splitting                                                                            48\n",
      "Computation on NumPy Arrays: Universal Functions                                              50\n",
      "The Slowness of Loops                                                                                                50\n",
      "Introducing UFuncs                                                                                                     51\n",
      "Exploring NumPy†s UFuncs                                                                                        52\n",
      "Advanced Ufunc Features                                                                                           56\n",
      "Ufuncs: Learning More                                                                                                58\n",
      "Aggregations: Min, Max, and Everything in Between                                                58\n",
      "Summing the Values in an Array                                                                               59\n",
      "Minimum and Maximum                                                                                           59\n",
      "Example: What Is the Average Height of US Presidents?                                       61\n",
      "Computation on Arrays: Broadcasting                                                                         63\n",
      "Introducing Broadcasting                                                                                           63\n",
      "Rules of Broadcasting                                                                                                  65\n",
      "Broadcasting in Practice                                                                                              68\n",
      "iv | Table of Contents\n",
      "www.allitebooks.com\n",
      "\n"
     ]
    }
   ],
   "source": [
    "import PyPDF2 as pdf\n",
    "obj = open('C:/Users/Panda/Downloads/pythondatasciencehandbook.pdf','rb')\n",
    "pdfreader = pdf.PdfFileReader(obj)\n",
    "print(\"number of pages in the pdf is: \" ,pdfreader.numPages)\n",
    "obj2 = pdfreader.getPage(5)\n",
    "print(\"page 5 of the pdf : \\n\",obj2.extractText())"
   ]
  },
  {
   "cell_type": "markdown",
   "metadata": {},
   "source": [
    "###  3. What PdfFileReader variable stores the number of pages in the PDF document?"
   ]
  },
  {
   "cell_type": "code",
   "execution_count": null,
   "metadata": {},
   "outputs": [],
   "source": [
    "\n",
    "Ans:\n",
    "suppose we have pdfreader object for PdfFileReader \n",
    "so the number of pages are stored in:\n",
    " pdfreader.numPages"
   ]
  },
  {
   "cell_type": "markdown",
   "metadata": {},
   "source": [
    "### 4. If a PdfFileReader object’s PDF is encrypted with the password swordfish, what must you do before you can obtain Page objects from it?"
   ]
  },
  {
   "cell_type": "code",
   "execution_count": null,
   "metadata": {},
   "outputs": [],
   "source": [
    "Ans:\n",
    "suppose the PdfFileReader object is pdfreader \n",
    "so we can use : \n",
    "  if pdfreader.isEncrypted:\n",
    "     pdfreader.decrypt(\"swordfish\")"
   ]
  },
  {
   "cell_type": "markdown",
   "metadata": {},
   "source": [
    "### 5. What methods do you use to rotate a page?"
   ]
  },
  {
   "cell_type": "code",
   "execution_count": null,
   "metadata": {},
   "outputs": [],
   "source": [
    "Ans:\n",
    "suppose we have:\n",
    "  pdfreader = PyPDF2.PdfFileReader(...)\n",
    "  pdf_obj = pdfreader.getPage(9)\n",
    "  pdf_obj.rotateClockwise(90)\n"
   ]
  },
  {
   "cell_type": "markdown",
   "metadata": {},
   "source": [
    "### 6.What is the difference between a Run object and a Paragraph object?"
   ]
  },
  {
   "cell_type": "code",
   "execution_count": null,
   "metadata": {},
   "outputs": [],
   "source": [
    "Ans\n",
    "Paragraph objects has a text attribute that contains a string of the text in that paragraph \n",
    "(without the style information).\n",
    " Run objects also have a text attribute, containing just the text in that particular run."
   ]
  },
  {
   "cell_type": "markdown",
   "metadata": {},
   "source": [
    "### 7. How do you obtain a list of Paragraph objects for a Document object that’s stored in a variablenamed doc?"
   ]
  },
  {
   "cell_type": "code",
   "execution_count": null,
   "metadata": {},
   "outputs": [],
   "source": [
    "Ans:\n",
    "doc.paragraphs will return the list of paragraph objects.\n",
    "len(doc.paragraphs) returns the number of paragraph objetcs"
   ]
  },
  {
   "cell_type": "markdown",
   "metadata": {},
   "source": [
    "### 8. What type of object has bold, underline, italic, strike, and outline variables?"
   ]
  },
  {
   "cell_type": "code",
   "execution_count": null,
   "metadata": {},
   "outputs": [],
   "source": [
    "Ans:\n",
    "run object"
   ]
  },
  {
   "cell_type": "markdown",
   "metadata": {},
   "source": [
    "### 9.What is the difference between False, True, and None for the bold variable?"
   ]
  },
  {
   "cell_type": "code",
   "execution_count": null,
   "metadata": {},
   "outputs": [],
   "source": [
    "Ans:\n",
    "True : the attribute is always enabled, no matter what other styles are applied to the run\n",
    "False : the attribute is always disabled\n",
    "None : defaults to whatever the run’s style is set to"
   ]
  },
  {
   "cell_type": "markdown",
   "metadata": {},
   "source": [
    "### 10. How do you create a Document object for a new Word document?"
   ]
  },
  {
   "cell_type": "code",
   "execution_count": 2,
   "metadata": {},
   "outputs": [],
   "source": [
    "Ans:\n",
    "import docx\n",
    "  doc = docx.Document(__documentName__)"
   ]
  },
  {
   "cell_type": "markdown",
   "metadata": {},
   "source": [
    "### 11. How do you add a paragraph with the text \"Hello, there\" to a Document object stored in a variable named doc?"
   ]
  },
  {
   "cell_type": "code",
   "execution_count": 5,
   "metadata": {},
   "outputs": [],
   "source": [
    "Ans:\n",
    "doc.add_paragrapgh(\"hello there\")\n",
    "   doc.save('helloThere.docx')"
   ]
  },
  {
   "cell_type": "markdown",
   "metadata": {},
   "source": [
    "### 12. What integers represent the levels of headings available in Word documents?"
   ]
  },
  {
   "cell_type": "code",
   "execution_count": null,
   "metadata": {},
   "outputs": [],
   "source": [
    "\n",
    "Ans\n",
    "integers from 0 to 4 are for various heading levels, with 1 being the main heading and 4 the lowest subheading"
   ]
  }
 ],
 "metadata": {
  "kernelspec": {
   "display_name": "Python 3",
   "language": "python",
   "name": "python3"
  },
  "language_info": {
   "codemirror_mode": {
    "name": "ipython",
    "version": 3
   },
   "file_extension": ".py",
   "mimetype": "text/x-python",
   "name": "python",
   "nbconvert_exporter": "python",
   "pygments_lexer": "ipython3",
   "version": "3.8.8"
  }
 },
 "nbformat": 4,
 "nbformat_minor": 2
}
